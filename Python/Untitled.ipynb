{
 "cells": [
  {
   "cell_type": "code",
   "execution_count": 9,
   "id": "498e72e8",
   "metadata": {},
   "outputs": [
    {
     "name": "stdout",
     "output_type": "stream",
     "text": [
      "68\n",
      "-22\n",
      "1035\n",
      "0.5111111111111111\n"
     ]
    }
   ],
   "source": [
    "num1=23\n",
    "num2=45\n",
    "sum=num1+num2\n",
    "print(sum)\n",
    "sub=num1-num2\n",
    "print(sub)\n",
    "mul=num1*num2\n",
    "print(mul)\n",
    "div=num1/num2\n",
    "print(div)"
   ]
  }
 ],
 "metadata": {
  "kernelspec": {
   "display_name": "Python 3",
   "language": "python",
   "name": "python3"
  },
  "language_info": {
   "codemirror_mode": {
    "name": "ipython",
    "version": 3
   },
   "file_extension": ".py",
   "mimetype": "text/x-python",
   "name": "python",
   "nbconvert_exporter": "python",
   "pygments_lexer": "ipython3",
   "version": "3.9.4"
  }
 },
 "nbformat": 4,
 "nbformat_minor": 5
}
