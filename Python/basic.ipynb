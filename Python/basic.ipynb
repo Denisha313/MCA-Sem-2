{
 "cells": [
  {
   "cell_type": "code",
   "execution_count": 1,
   "id": "2fcdb47f",
   "metadata": {},
   "outputs": [
    {
     "name": "stdout",
     "output_type": "stream",
     "text": [
      "3\n"
     ]
    }
   ],
   "source": [
    "#add two no.\n",
    "a=1\n",
    "b=2\n",
    "print(a+b)"
   ]
  },
  {
   "cell_type": "code",
   "execution_count": 4,
   "id": "7a05d0d5",
   "metadata": {},
   "outputs": [
    {
     "name": "stdout",
     "output_type": "stream",
     "text": [
      "enter first number:34\n",
      "enter second number56\n",
      "90\n"
     ]
    }
   ],
   "source": [
    "num1=int(input(\"enter first number:\"))\n",
    "num2=int(input(\"enter second number\"))\n",
    "sum=num1+num2\n",
    "print(sum)"
   ]
  },
  {
   "cell_type": "code",
   "execution_count": 6,
   "id": "a3304a2c",
   "metadata": {},
   "outputs": [
    {
     "name": "stdout",
     "output_type": "stream",
     "text": [
      "a is big\n"
     ]
    }
   ],
   "source": [
    "#maximum two no.\n",
    "a=30\n",
    "b=20\n",
    "if a>b:\n",
    "    print(\"a is big\")\n",
    "else:\n",
    "    print(\"b is big\")"
   ]
  },
  {
   "cell_type": "code",
   "execution_count": 8,
   "id": "7418a9af",
   "metadata": {},
   "outputs": [
    {
     "name": "stdout",
     "output_type": "stream",
     "text": [
      "enter first number34\n",
      "enter second number21\n",
      "a is big\n"
     ]
    }
   ],
   "source": [
    "a=int(input(\"enter first number\"))\n",
    "b=int(input(\"enter second number\"))\n",
    "if a>b:\n",
    "    print(\"a is big\")\n",
    "else:\n",
    "    print(\"b is big\")"
   ]
  },
  {
   "cell_type": "code",
   "execution_count": 6,
   "id": "4bed9f5c",
   "metadata": {},
   "outputs": [
    {
     "name": "stdout",
     "output_type": "stream",
     "text": [
      "Factorial of 5 is 120\n"
     ]
    }
   ],
   "source": [
    "#factorial\n",
    "def factorial(n):\n",
    "\treturn 1 if (n==1 or n==0) else n * factorial(n - 1);\n",
    "\n",
    "\n",
    "num = 5;\n",
    "print(\"Factorial of\",num,\"is\",\n",
    "factorial(num))\n",
    "\n",
    "\n"
   ]
  },
  {
   "cell_type": "code",
   "execution_count": 16,
   "id": "64c1cd22",
   "metadata": {},
   "outputs": [
    {
     "name": "stdout",
     "output_type": "stream",
     "text": [
      "the simple interst is 3.84\n"
     ]
    }
   ],
   "source": [
    "#simple intrest\n",
    "p=8\n",
    "t=6\n",
    "r=8\n",
    "si=(p*t*r)/100\n",
    "print(\"the simple interst is\",si)"
   ]
  },
  {
   "cell_type": "code",
   "execution_count": 17,
   "id": "b9840a7e",
   "metadata": {},
   "outputs": [
    {
     "name": "stdout",
     "output_type": "stream",
     "text": [
      "Compound interest is 6288.946267774416\n"
     ]
    }
   ],
   "source": [
    "#compond interest\n",
    "# interest for given values.\n",
    "\n",
    "def compound_interest(principle, rate, time):\n",
    "\n",
    "\t\n",
    "\tAmount = principle * (pow((1 + rate / 100), time))\n",
    "\tCI = Amount - principle\n",
    "\tprint(\"Compound interest is\", CI)\n",
    "\n",
    "\n",
    "compound_interest(10000, 10.25, 5)\n",
    "\n",
    "\n"
   ]
  },
  {
   "cell_type": "code",
   "execution_count": 19,
   "id": "65bdcc63",
   "metadata": {},
   "outputs": [
    {
     "name": "stdout",
     "output_type": "stream",
     "text": [
      "Area is 78.550000\n"
     ]
    }
   ],
   "source": [
    "#area of circle\n",
    "\n",
    "def findArea(r):\n",
    "   PI = 3.142\n",
    "   return PI * (r*r);\n",
    "print(\"Area is %.6f\" % findArea(5));"
   ]
  },
  {
   "cell_type": "code",
   "execution_count": 21,
   "id": "5bbbbb40",
   "metadata": {},
   "outputs": [
    {
     "name": "stdout",
     "output_type": "stream",
     "text": [
      "11\n",
      "13\n",
      "17\n",
      "19\n",
      "23\n"
     ]
    }
   ],
   "source": [
    "#prime no\n",
    "start = 11\n",
    "end = 25\n",
    "for i in range(start, end+1):\n",
    "  if i>1:\n",
    "    for j in range(2,i):\n",
    "        if(i % j==0):\n",
    "            break\n",
    "    else:\n",
    "        print(i)"
   ]
  },
  {
   "cell_type": "code",
   "execution_count": 1,
   "id": "e81e2bd1",
   "metadata": {},
   "outputs": [
    {
     "name": "stdout",
     "output_type": "stream",
     "text": [
      "21\n"
     ]
    }
   ],
   "source": [
    "def Fibonacci(n):\n",
    "    if n<0:\n",
    "        print(\"Incorrect input\")\n",
    "   \n",
    "    elif n==1:\n",
    "        return 0\n",
    "   \n",
    "    elif n==2:\n",
    "        return 1\n",
    "    else:\n",
    "        return Fibonacci(n-1)+Fibonacci(n-2)\n",
    "  \n",
    "\n",
    "  \n",
    "print(Fibonacci(9))"
   ]
  },
  {
   "cell_type": "code",
   "execution_count": 5,
   "id": "12efdd9a",
   "metadata": {},
   "outputs": [
    {
     "name": "stdout",
     "output_type": "stream",
     "text": [
      "The ASCII value of 'r' is 114\n"
     ]
    }
   ],
   "source": [
    "c = 'r'\n",
    "\n",
    "print(\"The ASCII value of '\" + c + \"' is\", ord(c))\n"
   ]
  },
  {
   "cell_type": "code",
   "execution_count": 2,
   "id": "6e4a6628",
   "metadata": {},
   "outputs": [
    {
     "name": "stdout",
     "output_type": "stream",
     "text": [
      "30\n"
     ]
    }
   ],
   "source": [
    "def squaresum(n) :\n",
    "\n",
    "\tsm = 0\n",
    "\tfor i in range(1, n+1) :\n",
    "\t\tsm = sm + (i * i)\n",
    "\t\n",
    "\treturn sm\n",
    "\n",
    "\n",
    "n = 4\n",
    "print(squaresum(n))\n",
    "\n",
    "\n"
   ]
  },
  {
   "cell_type": "code",
   "execution_count": 5,
   "id": "5dc10991",
   "metadata": {},
   "outputs": [
    {
     "name": "stdout",
     "output_type": "stream",
     "text": [
      "225\n"
     ]
    }
   ],
   "source": [
    "# Simple Python program to find sum of series\n",
    "# with cubes of first n natural numbers\n",
    "\n",
    "\n",
    "def sumOfSeries(n):\n",
    "\tsum = 0\n",
    "\tfor i in range(1, n+1):\n",
    "\t\tsum +=i*i*i\n",
    "\t\t\n",
    "\treturn sum\n",
    "n = 5\n",
    "print(sumOfSeries(n))\n",
    "\n",
    "\n"
   ]
  },
  {
   "cell_type": "markdown",
   "id": "4a97e5a7",
   "metadata": {},
   "source": [
    "\n",
    "\n",
    "\n"
   ]
  }
 ],
 "metadata": {
  "kernelspec": {
   "display_name": "Python 3",
   "language": "python",
   "name": "python3"
  },
  "language_info": {
   "codemirror_mode": {
    "name": "ipython",
    "version": 3
   },
   "file_extension": ".py",
   "mimetype": "text/x-python",
   "name": "python",
   "nbconvert_exporter": "python",
   "pygments_lexer": "ipython3",
   "version": "3.9.4"
  }
 },
 "nbformat": 4,
 "nbformat_minor": 5
}
